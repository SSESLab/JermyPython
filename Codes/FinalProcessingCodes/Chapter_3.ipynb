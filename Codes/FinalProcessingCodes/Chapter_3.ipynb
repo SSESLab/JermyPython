{
  "nbformat": 4,
  "nbformat_minor": 0,
  "metadata": {
    "colab": {
      "name": "Chapter 3",
      "provenance": [],
      "toc_visible": true
    },
    "kernelspec": {
      "name": "python3",
      "display_name": "Python 3"
    }
  },
  "cells": [
    {
      "cell_type": "code",
      "metadata": {
        "id": "_5Sxb6tdNE01",
        "colab_type": "code",
        "colab": {}
      },
      "source": [
        "import pandas as pd\n",
        "import numpy as np\n",
        "\n",
        "dataset = pd.read_csv(\"All.csv\")"
      ],
      "execution_count": 0,
      "outputs": []
    },
    {
      "cell_type": "code",
      "metadata": {
        "id": "lYDpEZH-Itis",
        "colab_type": "code",
        "colab": {}
      },
      "source": [
        "df = dataset\n",
        "\n",
        "df = df.drop(['T_db_10', 'V_a_10'], axis=1)\n",
        "\n",
        "dataset = df"
      ],
      "execution_count": 0,
      "outputs": []
    },
    {
      "cell_type": "code",
      "metadata": {
        "id": "WgMtykxUPZTC",
        "colab_type": "code",
        "outputId": "96eab21d-db0a-4751-8226-d782bd329c3c",
        "colab": {
          "base_uri": "https://localhost:8080/",
          "height": 435
        }
      },
      "source": [
        "## Dropping highly correlated features\n",
        "\n",
        "df = dataset\n",
        "\n",
        "\n",
        "# Create correlation matrix\n",
        "corr_matrix = df.corr().abs()\n",
        "corr_matrix.to_csv(\"classifierCorrelation.csv\", index=False)\n",
        "\n",
        "# Select upper triangle of correlation matrix\n",
        "upper = corr_matrix.where(np.triu(np.ones(corr_matrix.shape), k=1).astype(np.bool))\n",
        "\n",
        "\n",
        "# Find index of feature columns with correlation greater than 0.95\n",
        "to_drop = [column for column in upper.columns if any(upper[column] > 0.95)]\n",
        "\n",
        "print(corr_matrix)\n",
        "if 'Temperature' in to_drop:\n",
        "  to_drop.remove('Temperature')\n",
        "\n",
        "# Drop features \n",
        "df = df.drop(df[to_drop], axis=1)\n",
        "\n",
        "\n",
        "print(\"Highly correlated variables being dropped: \", to_drop)\n",
        "\n",
        "dataset = df\n"
      ],
      "execution_count": 0,
      "outputs": [
        {
          "output_type": "stream",
          "text": [
            "                   Activity       Clo  ...   New_MET  NewMET_PMV\n",
            "Activity           1.000000  0.030575  ...  0.018809    0.084640\n",
            "Clo                0.030575  1.000000  ...  0.145862    0.621318\n",
            "General Sensation  0.028736  0.145094  ...  0.008342    0.204366\n",
            "HR                 0.065153  0.081387  ...  0.564924    0.112624\n",
            "MRT                0.052538  0.129011  ...  0.335527    0.585837\n",
            "Pressure           0.002120  0.119960  ...  0.109405    0.248909\n",
            "RH                 0.044472  0.025670  ...  0.151394    0.029747\n",
            "T_db_110           0.076685  0.038841  ...  0.349381    0.674372\n",
            "T_db_50            0.029966  0.083991  ...  0.289629    0.595772\n",
            "Temp               0.064354  0.092446  ...  0.308278    0.666370\n",
            "Temp.1             0.063835  0.060318  ...  0.300758    0.694954\n",
            "Temperature        0.088278  0.098877  ...  0.308943    0.663962\n",
            "V_a_110            0.058495  0.021178  ...  0.128851    0.115959\n",
            "V_a_50             0.025291  0.038097  ...  0.022764    0.278144\n",
            "PMV                0.360901  0.669595  ...  0.304447    0.930570\n",
            "HR_MET             0.018809  0.145862  ...  1.000000    0.331063\n",
            "HR_PMV             0.089481  0.672563  ...  0.079734    0.904471\n",
            "New_MET            0.018809  0.145862  ...  1.000000    0.331063\n",
            "NewMET_PMV         0.084640  0.621318  ...  0.331063    1.000000\n",
            "\n",
            "[19 rows x 19 columns]\n",
            "Highly correlated variables being dropped:  ['T_db_110', 'T_db_50', 'Temp.1', 'New_MET']\n"
          ],
          "name": "stdout"
        }
      ]
    },
    {
      "cell_type": "code",
      "metadata": {
        "id": "Egew1DGHQndv",
        "colab_type": "code",
        "colab": {}
      },
      "source": [
        "# Encoding Gender\n",
        "from sklearn.preprocessing import LabelEncoder\n",
        "\n",
        "lb_make = LabelEncoder()\n",
        "dataset['Gender'] = lb_make.fit_transform(dataset['Gender'])"
      ],
      "execution_count": 0,
      "outputs": []
    },
    {
      "cell_type": "code",
      "metadata": {
        "id": "8MlEgUyRMi98",
        "colab_type": "code",
        "outputId": "4f442dd9-e16b-4570-aa08-a9cbe76cbe90",
        "colab": {
          "base_uri": "https://localhost:8080/",
          "height": 295
        }
      },
      "source": [
        "# plot feature importance using built-in function\n",
        "from numpy import loadtxt\n",
        "from xgboost import XGBClassifier\n",
        "from xgboost import plot_importance\n",
        "from matplotlib import pyplot\n",
        "# load data\n",
        "\n",
        "# split data into X and y\n",
        "X = dataset[['Activity', 'Clo',  'Gender',\n",
        "        'HR',  'MRT',  'RH', \n",
        "       'V_a_110', 'V_a_50','Temperature']]\n",
        "y = dataset[ 'General Sensation']\n",
        "# fit model to training data\n",
        "model = XGBClassifier()\n",
        "model.fit(X, y)\n",
        "# plot feature importance\n",
        "plot_importance(model, importance_type=\"weight\")\n",
        "\n",
        "pyplot.savefig(\"all_FI.png\")\n",
        "# pyplot.show()"
      ],
      "execution_count": 0,
      "outputs": [
        {
          "output_type": "display_data",
          "data": {
            "image/png": "[encoded data removed]",
            "text/plain": [
              "<Figure size 432x288 with 1 Axes>"
            ]
          },
          "metadata": {
            "tags": [],
            "needs_background": "light"
          }
        }
      ]
    },
    {
      "cell_type": "code",
      "metadata": {
        "id": "PD6Y_i6al2ca",
        "colab_type": "code",
        "colab": {}
      },
      "source": [
        "import matplotlib\n",
        "\n",
        "# matplotlib.rcParams['text.usetex'] = True"
      ],
      "execution_count": 0,
      "outputs": []
    },
    {
      "cell_type": "code",
      "metadata": {
        "id": "0z1XwI1BUZEZ",
        "colab_type": "code",
        "colab": {}
      },
      "source": [
        "gs = dataset['General Sensation']\n",
        "\n",
        "temp = dataset.pop('General Sensation')\n",
        "dataset['General Sensation'] = gs"
      ],
      "execution_count": 0,
      "outputs": []
    },
    {
      "cell_type": "code",
      "metadata": {
        "id": "q044L9IInDNh",
        "colab_type": "code",
        "colab": {}
      },
      "source": [
        "import xgboost\n",
        "from matplotlib.pyplot import figure\n",
        "import graphviz as gv\n",
        "import pylab\n",
        "\n",
        "AllPersons = dataset['Subject'].unique()\n",
        "\n",
        "for UniquePerson in AllPersons:\n",
        "  split_dataset = dataset.loc[dataset['Subject'] == UniquePerson]\n",
        "  # split data into X and y\n",
        "  X = split_dataset[['Activity', 'Clo',  'Gender',\n",
        "          'HR',  'MRT',  'RH', \n",
        "        'V_a_110', 'V_a_50','Temperature']]\n",
        "  y = split_dataset[ 'General Sensation']\n",
        "  # fit model to training data\n",
        "  model = XGBClassifier()\n",
        "  model.fit(X, y)\n",
        "  # plot feature importance\n",
        "  pyplot.figure(figsize=(16,9))\n",
        "  plot_importance(model, importance_type=\"weight\")\n",
        "  Title = \"Feature Importance for \" + UniquePerson\n",
        "  pyplot.title(Title)\n",
        "\n",
        "\n",
        "\n",
        "  filename = UniquePerson + \"_FI.png\"\n",
        "  pyplot.savefig(filename, bbox_inches=\"tight\")\n",
        "\n",
        "  # pyplot.figure(figsize=(4,3))\n",
        "  \n",
        "  xgboost.plot_tree(model,num_trees=1)\n",
        "  # fig = matplotlib.pyplot.gcf()\n",
        "  # fig.set_size_inches(16, 9)\n",
        "  Title = \"Tree structure for \" + UniquePerson + \", Tree number: 2\"\n",
        "  pyplot.title(Title)\n",
        "  filename = UniquePerson + \"_Tree.png\"\n",
        "  # pyplot.figure(figsize=(16,9))\n",
        "  pyplot.savefig(filename, bbox_inches=\"tight\")\n",
        "\n",
        "  graphviz_object = xgboost.to_graphviz(model,num_trees=1)\n",
        "  filename = graphviz_object.render(filename=UniquePerson)\n",
        "\n",
        "  # pyplot.show()\n",
        "\n",
        "# AllPersons"
      ],
      "execution_count": 0,
      "outputs": []
    },
    {
      "cell_type": "code",
      "metadata": {
        "id": "aenWg6jhCu60",
        "colab_type": "code",
        "outputId": "76473961-e8f3-4e36-e653-b19383c6fde1",
        "colab": {
          "base_uri": "https://localhost:8080/",
          "height": 166
        }
      },
      "source": [
        "# Ploy how the decision tree was created\n",
        "\n",
        "import xgboost\n",
        "\n",
        "# xgb.plot.tree(model = bst)\n",
        "xgboost.plot_tree(model)\n",
        "pyplot.show()"
      ],
      "execution_count": 0,
      "outputs": [
        {
          "output_type": "display_data",
          "data": {
            "image/png": "[encoded data removed]",
            "text/plain": [
              "<Figure size 432x288 with 1 Axes>"
            ]
          },
          "metadata": {
            "tags": [],
            "needs_background": "light"
          }
        }
      ]
    }
  ]
}